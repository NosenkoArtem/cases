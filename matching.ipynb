{
 "cells": [
  {
   "cell_type": "code",
   "execution_count": 1,
   "metadata": {
    "ExecuteTime": {
     "end_time": "2022-06-22T13:36:59.871716Z",
     "start_time": "2022-06-22T13:36:58.217902Z"
    }
   },
   "outputs": [],
   "source": [
    "import pandas as pd\n",
    "import numpy as np\n",
    "\n",
    "from datetime import datetime\n",
    "from tqdm import tqdm\n",
    "\n",
    "from sklearn.metrics import jaccard_score, roc_auc_score\n",
    "from sklearn.linear_model import LinearRegression, LogisticRegression\n",
    "from sklearn.model_selection import train_test_split, GroupKFold, cross_val_score\n",
    "\n",
    "import optuna\n",
    "from optuna.visualization import plot_contour\n",
    "from optuna.visualization import plot_edf\n",
    "from optuna.visualization import plot_intermediate_values\n",
    "from optuna.visualization import plot_optimization_history\n",
    "from optuna.visualization import plot_parallel_coordinate\n",
    "from optuna.visualization import plot_param_importances\n",
    "from optuna.visualization import plot_slice"
   ]
  },
  {
   "cell_type": "code",
   "execution_count": 35,
   "metadata": {
    "ExecuteTime": {
     "end_time": "2022-06-22T13:46:51.666238Z",
     "start_time": "2022-06-22T13:46:51.660361Z"
    }
   },
   "outputs": [],
   "source": [
    "def transform_to_features(df, name_type_features='begin'):\n",
    "    \n",
    "    # конструируем матрицу признаков\n",
    "    stats = df.groupby(['flg_period','hash_id', 'lac']).count().reset_index()\n",
    "    \n",
    "    final_pivot = pd.pivot(\n",
    "                      stats,\n",
    "                      index=['flg_period', 'hash_id'],\n",
    "                      columns=['lac'],\n",
    "                      values=['ts']\n",
    "                     ).reset_index()\n",
    "    final_pivot.fillna(0, inplace=True)\n",
    "    \n",
    "    new_columns = ['flg_period']\n",
    "    new_columns += [i + '_' + str(j) + '_'+ name_type_features for i, j in final_pivot.columns[1:]]\n",
    "    \n",
    "    name_features = [i + '_' + str(j) for i, j in final_pivot.columns[2:]]\n",
    "    \n",
    "    final_pivot.columns = new_columns\n",
    "    final_pivot.drop(columns=['flg_period'], inplace=True)\n",
    "    \n",
    "    return final_pivot, name_features"
   ]
  },
  {
   "cell_type": "markdown",
   "metadata": {},
   "source": [
    "### Транзакции по клиентам"
   ]
  },
  {
   "cell_type": "code",
   "execution_count": 182,
   "metadata": {
    "ExecuteTime": {
     "end_time": "2022-06-24T06:26:33.144850Z",
     "start_time": "2022-06-24T06:26:28.118745Z"
    }
   },
   "outputs": [
    {
     "data": {
      "text/html": [
       "<div>\n",
       "<style scoped>\n",
       "    .dataframe tbody tr th:only-of-type {\n",
       "        vertical-align: middle;\n",
       "    }\n",
       "\n",
       "    .dataframe tbody tr th {\n",
       "        vertical-align: top;\n",
       "    }\n",
       "\n",
       "    .dataframe thead th {\n",
       "        text-align: right;\n",
       "    }\n",
       "</style>\n",
       "<table border=\"1\" class=\"dataframe\">\n",
       "  <thead>\n",
       "    <tr style=\"text-align: right;\">\n",
       "      <th></th>\n",
       "      <th>lac</th>\n",
       "      <th>cid</th>\n",
       "      <th>ts</th>\n",
       "      <th>fulldate</th>\n",
       "      <th>hash_id</th>\n",
       "    </tr>\n",
       "  </thead>\n",
       "  <tbody>\n",
       "    <tr>\n",
       "      <th>0</th>\n",
       "      <td>7755</td>\n",
       "      <td>35950</td>\n",
       "      <td>1.536391e+09</td>\n",
       "      <td>2018-09-13</td>\n",
       "      <td>1361396</td>\n",
       "    </tr>\n",
       "    <tr>\n",
       "      <th>1</th>\n",
       "      <td>7755</td>\n",
       "      <td>35950</td>\n",
       "      <td>1.536391e+09</td>\n",
       "      <td>2018-09-14</td>\n",
       "      <td>1361396</td>\n",
       "    </tr>\n",
       "    <tr>\n",
       "      <th>2</th>\n",
       "      <td>7752</td>\n",
       "      <td>19203</td>\n",
       "      <td>1.535967e+09</td>\n",
       "      <td>2018-09-04</td>\n",
       "      <td>1361396</td>\n",
       "    </tr>\n",
       "    <tr>\n",
       "      <th>3</th>\n",
       "      <td>7755</td>\n",
       "      <td>35950</td>\n",
       "      <td>1.536391e+09</td>\n",
       "      <td>2018-09-09</td>\n",
       "      <td>1361396</td>\n",
       "    </tr>\n",
       "    <tr>\n",
       "      <th>4</th>\n",
       "      <td>7752</td>\n",
       "      <td>19203</td>\n",
       "      <td>1.535967e+09</td>\n",
       "      <td>2018-09-05</td>\n",
       "      <td>1361396</td>\n",
       "    </tr>\n",
       "  </tbody>\n",
       "</table>\n",
       "</div>"
      ],
      "text/plain": [
       "    lac    cid            ts    fulldate  hash_id\n",
       "0  7755  35950  1.536391e+09  2018-09-13  1361396\n",
       "1  7755  35950  1.536391e+09  2018-09-14  1361396\n",
       "2  7752  19203  1.535967e+09  2018-09-04  1361396\n",
       "3  7755  35950  1.536391e+09  2018-09-09  1361396\n",
       "4  7752  19203  1.535967e+09  2018-09-05  1361396"
      ]
     },
     "execution_count": 182,
     "metadata": {},
     "output_type": "execute_result"
    }
   ],
   "source": [
    "df = pd.read_csv('01_data.csv', sep=';')\n",
    "df.head(5)"
   ]
  },
  {
   "cell_type": "code",
   "execution_count": 183,
   "metadata": {
    "ExecuteTime": {
     "end_time": "2022-06-24T06:26:37.199395Z",
     "start_time": "2022-06-24T06:26:33.147309Z"
    }
   },
   "outputs": [],
   "source": [
    "df['datetime'] = pd.to_datetime(df['ts'], unit='s')\n",
    "df['hour'] = df['datetime'].dt.hour\n",
    "\n",
    "\n",
    "df['fulldate'] = df['fulldate'].astype('datetime64')\n",
    "df['flg_period'] = df['fulldate'] < '2018-09-15'\n",
    "df = df[df['fulldate'] != '2018-09-15']"
   ]
  },
  {
   "cell_type": "markdown",
   "metadata": {},
   "source": [
    "### Размеченная выборка"
   ]
  },
  {
   "cell_type": "code",
   "execution_count": 184,
   "metadata": {
    "ExecuteTime": {
     "end_time": "2022-06-24T06:26:37.216557Z",
     "start_time": "2022-06-24T06:26:37.202761Z"
    }
   },
   "outputs": [
    {
     "data": {
      "text/html": [
       "<div>\n",
       "<style scoped>\n",
       "    .dataframe tbody tr th:only-of-type {\n",
       "        vertical-align: middle;\n",
       "    }\n",
       "\n",
       "    .dataframe tbody tr th {\n",
       "        vertical-align: top;\n",
       "    }\n",
       "\n",
       "    .dataframe thead th {\n",
       "        text-align: right;\n",
       "    }\n",
       "</style>\n",
       "<table border=\"1\" class=\"dataframe\">\n",
       "  <thead>\n",
       "    <tr style=\"text-align: right;\">\n",
       "      <th></th>\n",
       "      <th>id1</th>\n",
       "      <th>id2</th>\n",
       "    </tr>\n",
       "  </thead>\n",
       "  <tbody>\n",
       "    <tr>\n",
       "      <th>0</th>\n",
       "      <td>1361396</td>\n",
       "      <td>2695335</td>\n",
       "    </tr>\n",
       "    <tr>\n",
       "      <th>1</th>\n",
       "      <td>1795864</td>\n",
       "      <td>2458905</td>\n",
       "    </tr>\n",
       "    <tr>\n",
       "      <th>2</th>\n",
       "      <td>1543059</td>\n",
       "      <td>2730453</td>\n",
       "    </tr>\n",
       "    <tr>\n",
       "      <th>3</th>\n",
       "      <td>1028066</td>\n",
       "      <td>2539971</td>\n",
       "    </tr>\n",
       "    <tr>\n",
       "      <th>4</th>\n",
       "      <td>1533076</td>\n",
       "      <td>2712514</td>\n",
       "    </tr>\n",
       "  </tbody>\n",
       "</table>\n",
       "</div>"
      ],
      "text/plain": [
       "       id1      id2\n",
       "0  1361396  2695335\n",
       "1  1795864  2458905\n",
       "2  1543059  2730453\n",
       "3  1028066  2539971\n",
       "4  1533076  2712514"
      ]
     },
     "execution_count": 184,
     "metadata": {},
     "output_type": "execute_result"
    }
   ],
   "source": [
    "df_res = pd.read_csv('02_etalon.csv', sep=';')\n",
    "matching_hash_id_begin_month = df_res['id1'].unique()\n",
    "matching_hash_id_end_month = df_res['id2'].unique()\n",
    "df_res.head(5)"
   ]
  },
  {
   "cell_type": "markdown",
   "metadata": {},
   "source": [
    "### Статистика по выборкам"
   ]
  },
  {
   "cell_type": "code",
   "execution_count": 185,
   "metadata": {
    "ExecuteTime": {
     "end_time": "2022-06-24T06:26:38.097629Z",
     "start_time": "2022-06-24T06:26:37.219116Z"
    }
   },
   "outputs": [
    {
     "name": "stdout",
     "output_type": "stream",
     "text": [
      "Кол-во уникальных хэшей : 4542\n",
      "Кол-во уникальных хэшей в начале месяца: 2248\n",
      "Кол-во уникальных хэшей в конце месяца: 2294\n"
     ]
    }
   ],
   "source": [
    "n_unique_users = df['hash_id'].nunique()\n",
    "print(f'Кол-во уникальных хэшей : {n_unique_users}')\n",
    "\n",
    "unique_users_begin_month = df[df['flg_period']]['hash_id'].unique()\n",
    "n_unique_users_begin_month = len(unique_users_begin_month)\n",
    "print(f'Кол-во уникальных хэшей в начале месяца: {n_unique_users_begin_month}')\n",
    "\n",
    "unique_users_end_month = df[~df['flg_period']]['hash_id'].unique()\n",
    "n_unique_users_end_month = len(unique_users_end_month)\n",
    "print(f'Кол-во уникальных хэшей в конце месяца: {n_unique_users_end_month}')"
   ]
  },
  {
   "cell_type": "code",
   "execution_count": 10,
   "metadata": {
    "ExecuteTime": {
     "end_time": "2022-06-22T13:39:05.538474Z",
     "start_time": "2022-06-22T13:39:04.653898Z"
    }
   },
   "outputs": [
    {
     "name": "stdout",
     "output_type": "stream",
     "text": [
      "Кол-во уникальных lac : 364\n",
      "Кол-во уникальных lac в начале месяца: 355\n",
      "Кол-во уникальных lac в конце месяца: 340\n"
     ]
    }
   ],
   "source": [
    "n_unique_lac = df['lac'].nunique()\n",
    "print(f'Кол-во уникальных lac : {n_unique_lac}')\n",
    "\n",
    "n_unique_lac_begin_month = df[df['flg_period']]['lac'].nunique()\n",
    "print(f'Кол-во уникальных lac в начале месяца: {n_unique_lac_begin_month}')\n",
    "\n",
    "n_unique_lac_end_month = df[~df['flg_period']]['lac'].nunique()\n",
    "print(f'Кол-во уникальных lac в конце месяца: {n_unique_lac_end_month}')"
   ]
  },
  {
   "cell_type": "markdown",
   "metadata": {},
   "source": [
    "### Выборка по фичам"
   ]
  },
  {
   "cell_type": "code",
   "execution_count": 142,
   "metadata": {
    "ExecuteTime": {
     "end_time": "2022-06-23T08:26:39.890608Z",
     "start_time": "2022-06-23T08:26:38.006383Z"
    }
   },
   "outputs": [],
   "source": [
    "final_pivot, features = transform_to_features(df)"
   ]
  },
  {
   "cell_type": "code",
   "execution_count": 150,
   "metadata": {
    "ExecuteTime": {
     "end_time": "2022-06-23T09:29:43.440651Z",
     "start_time": "2022-06-23T09:29:42.938078Z"
    }
   },
   "outputs": [],
   "source": [
    "# делаем негативное семплирование (добавляем отрицательных примеров)\n",
    "dataset = df_res.copy()\n",
    "negative_sample_size = 100 #кол-во негативных примеров на 1 позитивный\n",
    "\n",
    "unique_hash_id = set(df_res['id1'].unique())\n",
    "dataset_negative_examples = pd.DataFrame()\n",
    "dct = {\n",
    "       'id1' : [], \n",
    "       'id2' : []\n",
    "      }\n",
    "for index_ in range(len(dataset)):\n",
    "    hash_id_begin, hash_id_end = dataset.loc[index_, 'id1'], dataset.loc[index_, 'id2']\n",
    "    \n",
    "    unique_hash_id_ = list(set(unique_hash_id) - set([hash_id_end]))\n",
    "    negative_hash_id = np.random.choice(unique_hash_id_, size=negative_sample_size)\n",
    "    \n",
    "    dct['id1'].extend([hash_id_begin]*negative_sample_size)\n",
    "    dct['id2'].extend(list(negative_hash_id))"
   ]
  },
  {
   "cell_type": "code",
   "execution_count": 151,
   "metadata": {
    "ExecuteTime": {
     "end_time": "2022-06-23T09:29:45.738967Z",
     "start_time": "2022-06-23T09:29:45.702820Z"
    }
   },
   "outputs": [
    {
     "name": "stdout",
     "output_type": "stream",
     "text": [
      "Средний ev_rate : 0.0099\n",
      "CPU times: user 33 ms, sys: 160 µs, total: 33.2 ms\n",
      "Wall time: 31.9 ms\n"
     ]
    }
   ],
   "source": [
    "%%time\n",
    "# собираем две выборки вместе\n",
    "dataset['target'] = 1\n",
    "dataset_negative_examples = pd.DataFrame(data=dct)\n",
    "dataset_negative_examples['target'] = 0\n",
    "\n",
    "df_final = pd.concat([dataset, dataset_negative_examples])\n",
    "ev = df_final['target'].mean()\n",
    "print(f'Средний ev_rate : {ev:.4f}')"
   ]
  },
  {
   "cell_type": "code",
   "execution_count": 152,
   "metadata": {
    "ExecuteTime": {
     "end_time": "2022-06-23T09:29:51.578149Z",
     "start_time": "2022-06-23T09:29:47.963540Z"
    }
   },
   "outputs": [
    {
     "name": "stdout",
     "output_type": "stream",
     "text": [
      "CPU times: user 2.45 s, sys: 1.15 s, total: 3.6 s\n",
      "Wall time: 3.61 s\n"
     ]
    }
   ],
   "source": [
    "%%time\n",
    "final_pivot_begin, _ = transform_to_features(df, name_type_features='begin')\n",
    "final_pivot_end, _ = transform_to_features(df, name_type_features='end')\n",
    "\n",
    "df_final = pd.merge(df_final, final_pivot_begin,\n",
    "                     how='left', left_on='id1', right_on='hash_id__begin')\n",
    "# df_final.drop(columns=['hash_id'], inplace=True)\n",
    "\n",
    "df_final = pd.merge(df_final, final_pivot_end,\n",
    "                     how='left', left_on='id2', right_on='hash_id__end')"
   ]
  },
  {
   "cell_type": "code",
   "execution_count": 153,
   "metadata": {
    "ExecuteTime": {
     "end_time": "2022-06-23T09:29:54.700053Z",
     "start_time": "2022-06-23T09:29:52.058075Z"
    },
    "code_folding": []
   },
   "outputs": [],
   "source": [
    "# добавляем дельты\n",
    "for column in features:\n",
    "    df_final[f'delta_{column}'] = df_final[f'{column}_begin'] - df_final[f'{column}_end']"
   ]
  },
  {
   "cell_type": "markdown",
   "metadata": {},
   "source": [
    "### Модель\n",
    "Задача - бинарная классификация. Используем подход, когда для пары ```id1-id2``` устанавливается метка 1, если матчинг верный и 0, если пары ```id1-id2``` сматчены неверно. Алгоритм - логистическая регрессия"
   ]
  },
  {
   "cell_type": "code",
   "execution_count": 156,
   "metadata": {
    "ExecuteTime": {
     "end_time": "2022-06-23T09:36:25.752625Z",
     "start_time": "2022-06-23T09:32:21.284286Z"
    }
   },
   "outputs": [
    {
     "name": "stderr",
     "output_type": "stream",
     "text": [
      "/opt/cloudera/parcels/PYENV.DML/lib/python3.7/site-packages/sklearn/linear_model/_logistic.py:765: ConvergenceWarning: lbfgs failed to converge (status=1):\n",
      "STOP: TOTAL NO. of ITERATIONS REACHED LIMIT.\n",
      "\n",
      "Increase the number of iterations (max_iter) or scale the data as shown in:\n",
      "    https://scikit-learn.org/stable/modules/preprocessing.html\n",
      "Please also refer to the documentation for alternative solver options:\n",
      "    https://scikit-learn.org/stable/modules/linear_model.html#logistic-regression\n",
      "  extra_warning_msg=_LOGISTIC_SOLVER_CONVERGENCE_MSG)\n"
     ]
    },
    {
     "name": "stdout",
     "output_type": "stream",
     "text": [
      "GINI score on train : 1.000\n",
      "GINI score on test : 0.728\n",
      "CPU times: user 39min 18s, sys: 23min 7s, total: 1h 2min 26s\n",
      "Wall time: 4min 4s\n"
     ]
    }
   ],
   "source": [
    "%%time\n",
    "X = df_final\n",
    "# разделяем трейн и тест по id1\n",
    "hash_id_ = X['id1'].unique()\n",
    "test_hash_id = hash_id_[391:]\n",
    "\n",
    "X_train, y_train = X[~X['id1'].isin(test_hash_id)], X[~X['id1'].isin(test_hash_id)]['target']\n",
    "X_test, y_test = X[X['id1'].isin(test_hash_id)], X[X['id1'].isin(test_hash_id)]['target']\n",
    "\n",
    "col_names = X_train.columns.tolist()\n",
    "col_names.remove('id1')\n",
    "col_names.remove('id2')\n",
    "col_names.remove('target')\n",
    "col_names.remove('hash_id__begin')\n",
    "col_names.remove('hash_id__end')\n",
    "\n",
    "clf = LogisticRegression(\n",
    "#                         penalty='l1',\n",
    "                        max_iter=10000,\n",
    "                        class_weight='balanced',\n",
    "#                          solver='saga',\n",
    "#                          n_jobs=-1\n",
    "                        )\n",
    "clf.fit(X_train[col_names], y_train)\n",
    "y_pred_proba_train = clf.predict_proba(X_train[col_names])[:, 1]\n",
    "score_train = 2*roc_auc_score(y_train, y_pred_proba_train)-1\n",
    "print('GINI score on train : {:.3f}'.format(score_train))\n",
    "\n",
    "y_pred_proba_test = clf.predict_proba(X_test[col_names])[:, 1]\n",
    "score_test = 2*roc_auc_score(y_test, y_pred_proba_test)-1\n",
    "print('GINI score on test : {:.3f}'.format(score_test))"
   ]
  },
  {
   "cell_type": "code",
   "execution_count": 157,
   "metadata": {
    "ExecuteTime": {
     "end_time": "2022-06-23T10:02:50.311312Z",
     "start_time": "2022-06-23T10:02:49.871839Z"
    }
   },
   "outputs": [
    {
     "name": "stderr",
     "output_type": "stream",
     "text": [
      "/opt/cloudera/parcels/PYENV.DML/lib/python3.7/site-packages/pandas/core/indexing.py:1597: SettingWithCopyWarning: \n",
      "A value is trying to be set on a copy of a slice from a DataFrame.\n",
      "Try using .loc[row_indexer,col_indexer] = value instead\n",
      "\n",
      "See the caveats in the documentation: https://pandas.pydata.org/pandas-docs/stable/user_guide/indexing.html#returning-a-view-versus-a-copy\n",
      "  self.obj[key] = value\n",
      "/opt/cloudera/parcels/PYENV.DML/lib/python3.7/site-packages/pandas/core/indexing.py:1676: SettingWithCopyWarning: \n",
      "A value is trying to be set on a copy of a slice from a DataFrame.\n",
      "Try using .loc[row_indexer,col_indexer] = value instead\n",
      "\n",
      "See the caveats in the documentation: https://pandas.pydata.org/pandas-docs/stable/user_guide/indexing.html#returning-a-view-versus-a-copy\n",
      "  self._setitem_single_column(ilocs[0], value, pi)\n"
     ]
    },
    {
     "name": "stdout",
     "output_type": "stream",
     "text": [
      "Точность на тестовой выборке составила : 0.76\n"
     ]
    }
   ],
   "source": [
    "# считаем метрику точности\n",
    "X_test.loc[:, 'proba'] = y_pred_proba_test\n",
    "\n",
    "X_test_ = X_test.sort_values(by=['id1', 'proba'], ascending=False)\n",
    "presicion_1 = X_test_.drop_duplicates(subset=['id1'])['target'].mean()\n",
    "print(f'Точность на тестовой выборке составила : {presicion_1}')"
   ]
  },
  {
   "cell_type": "markdown",
   "metadata": {},
   "source": [
    "#### Подбор параметра регуляризации"
   ]
  },
  {
   "cell_type": "code",
   "execution_count": 159,
   "metadata": {
    "ExecuteTime": {
     "end_time": "2022-06-23T10:03:28.300069Z",
     "start_time": "2022-06-23T10:03:28.294881Z"
    }
   },
   "outputs": [],
   "source": [
    "base_params = {\n",
    "    'max_iter' : 10000,\n",
    "}\n",
    "def objective(trial):\n",
    "    global base_params\n",
    "    \n",
    "    params = {\n",
    "            **base_params,\n",
    "            'C' : trial.suggest_loguniform('C', 1e-5, 100),\n",
    "    }\n",
    "    clf = LogisticRegression(**params)\n",
    "    \n",
    "    n_splits=10\n",
    "    cv = GroupKFold(n_splits=n_splits)\n",
    "    groups_kfold = X_train['id1']\n",
    "    scores = cross_val_score(clf, X=X_train[col_names],  y=y_train, \n",
    "                            groups=groups_kfold,\n",
    "                            scoring='roc_auc', cv=cv, n_jobs=6\n",
    "                             )\n",
    "    \n",
    "    score = 2*scores.mean() - 1\n",
    "    return score"
   ]
  },
  {
   "cell_type": "code",
   "execution_count": 160,
   "metadata": {
    "ExecuteTime": {
     "end_time": "2022-06-23T11:45:15.297942Z",
     "start_time": "2022-06-23T10:03:30.118340Z"
    },
    "scrolled": true
   },
   "outputs": [
    {
     "name": "stderr",
     "output_type": "stream",
     "text": [
      "\u001b[32m[I 2022-06-23 13:03:30,121]\u001b[0m A new study created in memory with name: no-name-47d816dd-62c0-478f-9abe-0a0bd51ae214\u001b[0m\n",
      "/opt/cloudera/parcels/PYENV.DML/lib/python3.7/site-packages/optuna/study.py:398: FutureWarning: `n_jobs` argument has been deprecated in v2.7.0. This feature will be removed in v4.0.0. See https://github.com/optuna/optuna/releases/tag/v2.7.0.\n",
      "  FutureWarning,\n",
      "\u001b[32m[I 2022-06-23 13:46:49,316]\u001b[0m Trial 1 finished with value: 0.7767862943786983 and parameters: {'C': 1.0031493002281022e-05}. Best is trial 1 with value: 0.7767862943786983.\u001b[0m\n",
      "\u001b[32m[I 2022-06-23 13:49:39,123]\u001b[0m Trial 6 finished with value: 0.7950740401051939 and parameters: {'C': 0.0001597919516734645}. Best is trial 6 with value: 0.7950740401051939.\u001b[0m\n",
      "\u001b[32m[I 2022-06-23 13:57:08,710]\u001b[0m Trial 3 finished with value: 0.7912055054240628 and parameters: {'C': 3.899167585210222e-05}. Best is trial 6 with value: 0.7950740401051939.\u001b[0m\n",
      "\u001b[32m[I 2022-06-23 13:59:25,211]\u001b[0m Trial 7 finished with value: 0.5227081328073635 and parameters: {'C': 54.56652370850856}. Best is trial 6 with value: 0.7950740401051939.\u001b[0m\n",
      "\u001b[32m[I 2022-06-23 14:05:28,438]\u001b[0m Trial 5 finished with value: 0.6136782380013148 and parameters: {'C': 1.7557221958888347}. Best is trial 6 with value: 0.7950740401051939.\u001b[0m\n",
      "\u001b[32m[I 2022-06-23 14:08:35,566]\u001b[0m Trial 4 finished with value: 0.731148891354372 and parameters: {'C': 0.00822493870548821}. Best is trial 6 with value: 0.7950740401051939.\u001b[0m\n",
      "\u001b[32m[I 2022-06-23 14:23:27,221]\u001b[0m Trial 0 finished with value: 0.5349532971729123 and parameters: {'C': 19.93787815579409}. Best is trial 6 with value: 0.7950740401051939.\u001b[0m\n",
      "\u001b[32m[I 2022-06-23 14:23:51,270]\u001b[0m Trial 2 finished with value: 0.5450617274819198 and parameters: {'C': 11.923703050905505}. Best is trial 6 with value: 0.7950740401051939.\u001b[0m\n",
      "\u001b[32m[I 2022-06-23 14:33:44,503]\u001b[0m Trial 8 finished with value: 0.6047891559829062 and parameters: {'C': 2.7063195715003783}. Best is trial 6 with value: 0.7950740401051939.\u001b[0m\n",
      "\u001b[32m[I 2022-06-23 14:45:15,290]\u001b[0m Trial 9 finished with value: 0.71017438773833 and parameters: {'C': 0.03606935379985069}. Best is trial 6 with value: 0.7950740401051939.\u001b[0m\n"
     ]
    }
   ],
   "source": [
    "sampler = optuna.samplers.TPESampler(seed=42)\n",
    "study = optuna.create_study(\n",
    "    direction=\"maximize\",\n",
    "    sampler=sampler\n",
    ")\n",
    "study.optimize(objective, n_trials=20, timeout=3000, n_jobs=8)"
   ]
  },
  {
   "cell_type": "code",
   "execution_count": 161,
   "metadata": {
    "ExecuteTime": {
     "end_time": "2022-06-23T11:46:53.520725Z",
     "start_time": "2022-06-23T11:45:15.302449Z"
    }
   },
   "outputs": [
    {
     "name": "stdout",
     "output_type": "stream",
     "text": [
      "GINI score on train : 0.947\n",
      "GINI score on test : 0.799\n"
     ]
    }
   ],
   "source": [
    "final_params = {**study.best_params, **base_params}\n",
    "best_clf = LogisticRegression(**final_params)\n",
    "\n",
    "best_clf.fit(X_train[col_names], y_train)\n",
    "y_pred_proba_train = best_clf.predict_proba(X_train[col_names])[:, 1]\n",
    "score_train = 2*roc_auc_score(y_train, y_pred_proba_train)-1\n",
    "print('GINI score on train : {:.3f}'.format(score_train))\n",
    "\n",
    "y_pred_proba_test = best_clf.predict_proba(X_test[col_names])[:, 1]\n",
    "score_test = 2*roc_auc_score(y_test, y_pred_proba_test)-1\n",
    "print('GINI score on test : {:.3f}'.format(score_test))"
   ]
  },
  {
   "cell_type": "code",
   "execution_count": 165,
   "metadata": {
    "ExecuteTime": {
     "end_time": "2022-06-23T12:13:52.712532Z",
     "start_time": "2022-06-23T12:13:52.497856Z"
    }
   },
   "outputs": [
    {
     "name": "stderr",
     "output_type": "stream",
     "text": [
      "/opt/cloudera/parcels/PYENV.DML/lib/python3.7/site-packages/pandas/core/indexing.py:1676: SettingWithCopyWarning: \n",
      "A value is trying to be set on a copy of a slice from a DataFrame.\n",
      "Try using .loc[row_indexer,col_indexer] = value instead\n",
      "\n",
      "See the caveats in the documentation: https://pandas.pydata.org/pandas-docs/stable/user_guide/indexing.html#returning-a-view-versus-a-copy\n",
      "  self._setitem_single_column(ilocs[0], value, pi)\n"
     ]
    },
    {
     "name": "stdout",
     "output_type": "stream",
     "text": [
      "Точность на тестовой выборке составила : 0.73\n"
     ]
    }
   ],
   "source": [
    "X_test.loc[:, 'proba'] = y_pred_proba_test\n",
    "\n",
    "X_test_ = X_test.sort_values(by=['id1', 'proba'], ascending=False)\n",
    "presicion_1 = X_test_.drop_duplicates(subset=['id1'])['target'].mean()\n",
    "print(f'Точность на тестовой выборке составила : {presicion_1}')"
   ]
  },
  {
   "cell_type": "code",
   "execution_count": 167,
   "metadata": {
    "ExecuteTime": {
     "end_time": "2022-06-23T12:13:56.336146Z",
     "start_time": "2022-06-23T12:13:56.330242Z"
    }
   },
   "outputs": [],
   "source": [
    "coef = pd.DataFrame.from_dict({\n",
    "                                'features' : col_names,\n",
    "                                'coef_' : best_clf.coef_[0]\n",
    "                            }\n",
    "                            )"
   ]
  },
  {
   "cell_type": "code",
   "execution_count": 168,
   "metadata": {
    "ExecuteTime": {
     "end_time": "2022-06-23T12:13:57.776801Z",
     "start_time": "2022-06-23T12:13:57.759931Z"
    }
   },
   "outputs": [
    {
     "data": {
      "text/html": [
       "<div>\n",
       "<style scoped>\n",
       "    .dataframe tbody tr th:only-of-type {\n",
       "        vertical-align: middle;\n",
       "    }\n",
       "\n",
       "    .dataframe tbody tr th {\n",
       "        vertical-align: top;\n",
       "    }\n",
       "\n",
       "    .dataframe thead th {\n",
       "        text-align: right;\n",
       "    }\n",
       "</style>\n",
       "<table border=\"1\" class=\"dataframe\">\n",
       "  <thead>\n",
       "    <tr style=\"text-align: right;\">\n",
       "      <th></th>\n",
       "      <th>features</th>\n",
       "      <th>coef_</th>\n",
       "    </tr>\n",
       "  </thead>\n",
       "  <tbody>\n",
       "    <tr>\n",
       "      <th>102</th>\n",
       "      <td>ts_7742_begin</td>\n",
       "      <td>-0.012243</td>\n",
       "    </tr>\n",
       "    <tr>\n",
       "      <th>103</th>\n",
       "      <td>ts_7743_begin</td>\n",
       "      <td>-0.020298</td>\n",
       "    </tr>\n",
       "    <tr>\n",
       "      <th>110</th>\n",
       "      <td>ts_7752_begin</td>\n",
       "      <td>-0.010005</td>\n",
       "    </tr>\n",
       "    <tr>\n",
       "      <th>135</th>\n",
       "      <td>ts_7798_begin</td>\n",
       "      <td>0.010045</td>\n",
       "    </tr>\n",
       "    <tr>\n",
       "      <th>365</th>\n",
       "      <td>ts_5000_end</td>\n",
       "      <td>0.017893</td>\n",
       "    </tr>\n",
       "    <tr>\n",
       "      <th>...</th>\n",
       "      <td>...</td>\n",
       "      <td>...</td>\n",
       "    </tr>\n",
       "    <tr>\n",
       "      <th>1006</th>\n",
       "      <td>delta_ts_9749</td>\n",
       "      <td>0.010862</td>\n",
       "    </tr>\n",
       "    <tr>\n",
       "      <th>1009</th>\n",
       "      <td>delta_ts_9752</td>\n",
       "      <td>-0.119898</td>\n",
       "    </tr>\n",
       "    <tr>\n",
       "      <th>1014</th>\n",
       "      <td>delta_ts_9757</td>\n",
       "      <td>-0.042086</td>\n",
       "    </tr>\n",
       "    <tr>\n",
       "      <th>1024</th>\n",
       "      <td>delta_ts_9768</td>\n",
       "      <td>0.016232</td>\n",
       "    </tr>\n",
       "    <tr>\n",
       "      <th>1038</th>\n",
       "      <td>delta_ts_9784</td>\n",
       "      <td>-0.011074</td>\n",
       "    </tr>\n",
       "  </tbody>\n",
       "</table>\n",
       "<p>82 rows × 2 columns</p>\n",
       "</div>"
      ],
      "text/plain": [
       "           features     coef_\n",
       "102   ts_7742_begin -0.012243\n",
       "103   ts_7743_begin -0.020298\n",
       "110   ts_7752_begin -0.010005\n",
       "135   ts_7798_begin  0.010045\n",
       "365     ts_5000_end  0.017893\n",
       "...             ...       ...\n",
       "1006  delta_ts_9749  0.010862\n",
       "1009  delta_ts_9752 -0.119898\n",
       "1014  delta_ts_9757 -0.042086\n",
       "1024  delta_ts_9768  0.016232\n",
       "1038  delta_ts_9784 -0.011074\n",
       "\n",
       "[82 rows x 2 columns]"
      ]
     },
     "execution_count": 168,
     "metadata": {},
     "output_type": "execute_result"
    }
   ],
   "source": [
    "coef[(coef['coef_'] > 0.01) | (coef['coef_'] < -0.01)]"
   ]
  },
  {
   "cell_type": "markdown",
   "metadata": {
    "ExecuteTime": {
     "end_time": "2022-06-21T11:19:55.976642Z",
     "start_time": "2022-06-21T11:19:55.973005Z"
    }
   },
   "source": [
    "### Скоринг"
   ]
  },
  {
   "cell_type": "code",
   "execution_count": 169,
   "metadata": {
    "ExecuteTime": {
     "end_time": "2022-06-23T12:14:52.045762Z",
     "start_time": "2022-06-23T12:14:48.436493Z"
    }
   },
   "outputs": [],
   "source": [
    "# создаем df с фичами\n",
    "features_begin, _ = transform_to_features(df, name_type_features='begin')\n",
    "features_end, _ = transform_to_features(df, name_type_features='end')\n",
    "\n",
    "features_begin = features_begin[features_begin['hash_id__begin'].isin(unique_users_begin_month)]\n",
    "features_end = features_end[features_end['hash_id__end'].isin(unique_users_end_month)]"
   ]
  },
  {
   "cell_type": "code",
   "execution_count": 170,
   "metadata": {
    "ExecuteTime": {
     "end_time": "2022-06-23T12:27:33.629790Z",
     "start_time": "2022-06-23T12:14:57.753332Z"
    },
    "scrolled": true
   },
   "outputs": [
    {
     "name": "stdout",
     "output_type": "stream",
     "text": [
      "Нужно сматчить 1757 юзеров\n"
     ]
    },
    {
     "name": "stderr",
     "output_type": "stream",
     "text": [
      "100%|██████████| 1757/1757 [12:35<00:00,  2.32it/s]\n"
     ]
    }
   ],
   "source": [
    "# для каждого id1 (hash_id в первой части месяца) скорим все доступные id2 (hash_id во второй части месяца) \n",
    "# для матчинга выбираем id2 с наибольшей вероятностью\n",
    "set_used_hash_id_end = set(matching_hash_id_end_month)\n",
    "res_dct = {\n",
    "           'id1' : [],\n",
    "           'id2' : []\n",
    "          }\n",
    "users_to_matching = list(set(unique_users_begin_month) - set(matching_hash_id_begin_month))\n",
    "print(f'Нужно сматчить {len(users_to_matching)} юзеров')\n",
    "for hash_id_begin in tqdm(users_to_matching):\n",
    "    features_begin_i = features_begin[features_begin['hash_id__begin'] == hash_id_begin]\n",
    "    features_begin_i = pd.merge(\n",
    "                                features_begin_i, \n",
    "                                features_end[~features_end['hash_id__end'].isin(set_used_hash_id_end)],\n",
    "                                how='cross'\n",
    "                               )\n",
    "\n",
    "    for column in features:\n",
    "        features_begin_i[f'delta_{column}'] = features_begin_i[f'{column}_begin'] - features_begin_i[f'{column}_end']\n",
    "    \n",
    "    # скорим всех сотрудников\n",
    "    proba_i = clf.predict_proba(features_begin_i[col_names])[:, 1]\n",
    "    hash_id_end = features_begin_i.loc[np.argmax(proba_i), 'hash_id__end']\n",
    "    \n",
    "    set_used_hash_id_end.add(hash_id_end)\n",
    "    \n",
    "    res_dct['id1'].append(hash_id_begin)\n",
    "    res_dct['id2'].append(hash_id_end)"
   ]
  },
  {
   "cell_type": "code",
   "execution_count": 171,
   "metadata": {
    "ExecuteTime": {
     "end_time": "2022-06-23T12:27:33.647452Z",
     "start_time": "2022-06-23T12:27:33.634504Z"
    }
   },
   "outputs": [],
   "source": [
    "df_res_model = pd.DataFrame(res_dct)\n",
    "# res_df.to_csv('res.csv')"
   ]
  },
  {
   "cell_type": "code",
   "execution_count": 172,
   "metadata": {
    "ExecuteTime": {
     "end_time": "2022-06-23T12:27:33.684725Z",
     "start_time": "2022-06-23T12:27:33.651510Z"
    }
   },
   "outputs": [],
   "source": [
    "final_res = pd.concat([df_res, df_res_model])\n",
    "\n",
    "assert len(final_res['id1'].unique()) == len(unique_users_begin_month)\n",
    "assert len(final_res['id2'].unique()) == len(final_res)\n",
    "\n",
    "final_res.to_csv('results.csv', index=False)"
   ]
  },
  {
   "cell_type": "markdown",
   "metadata": {},
   "source": [
    "### Идеи:\n",
    " - нагенерить побольше фичей (поведение человека внутри дня, по дням недели);\n",
    " - покрутить разные варианты негативного семплирования (например, добавлять примеры, которые плохо различаются алгоритмом);\n",
    " - попробовать бустинг для задачи классификации;\n",
    " - попробовать KNN (используя, например, расстояние Жаккара);\n",
    " - перейти к задаче ранжирования -> отсеивая кандидатов более \"легкими\" методами (например, на основе колаборативной фильтрации);\n",
    " - попробовать сетки, которые будут рассматривать логи звонков как последовательность, а функцию потерь на основе ```triplet loss``` (например, сиамские сети)"
   ]
  }
 ],
 "metadata": {
  "kernelspec": {
   "display_name": "DML.p.13",
   "language": "python",
   "name": "pyenv.dml"
  },
  "language_info": {
   "codemirror_mode": {
    "name": "ipython",
    "version": 3
   },
   "file_extension": ".py",
   "mimetype": "text/x-python",
   "name": "python",
   "nbconvert_exporter": "python",
   "pygments_lexer": "ipython3",
   "version": "3.7.4"
  },
  "toc": {
   "base_numbering": 1,
   "nav_menu": {},
   "number_sections": true,
   "sideBar": true,
   "skip_h1_title": false,
   "title_cell": "Table of Contents",
   "title_sidebar": "Contents",
   "toc_cell": false,
   "toc_position": {},
   "toc_section_display": true,
   "toc_window_display": false
  }
 },
 "nbformat": 4,
 "nbformat_minor": 4
}
